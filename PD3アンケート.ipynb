{
  "nbformat": 4,
  "nbformat_minor": 0,
  "metadata": {
    "colab": {
      "name": "PD3アンケート.ipynb",
      "provenance": [],
      "collapsed_sections": [],
      "authorship_tag": "ABX9TyNXN8joYiRF0+kyj8KK8gRq",
      "include_colab_link": true
    },
    "kernelspec": {
      "name": "python3",
      "display_name": "Python 3"
    },
    "language_info": {
      "name": "python"
    }
  },
  "cells": [
    {
      "cell_type": "markdown",
      "metadata": {
        "id": "view-in-github",
        "colab_type": "text"
      },
      "source": [
        "<a href=\"https://colab.research.google.com/github/SuzukiDaishi/pd3-enquete/blob/main/PD3%E3%82%A2%E3%83%B3%E3%82%B1%E3%83%BC%E3%83%88.ipynb\" target=\"_parent\"><img src=\"https://colab.research.google.com/assets/colab-badge.svg\" alt=\"Open In Colab\"/></a>"
      ]
    },
    {
      "cell_type": "code",
      "metadata": {
        "colab": {
          "base_uri": "https://localhost:8080/"
        },
        "id": "dwZsu9H4Hn3h",
        "outputId": "bf35acd4-4205-4bad-9ae3-7dc4d810ce05"
      },
      "source": [
        "!pip install japanize-matplotlib"
      ],
      "execution_count": 1,
      "outputs": [
        {
          "output_type": "stream",
          "name": "stdout",
          "text": [
            "Requirement already satisfied: japanize-matplotlib in /usr/local/lib/python3.7/dist-packages (1.1.3)\n",
            "Requirement already satisfied: matplotlib in /usr/local/lib/python3.7/dist-packages (from japanize-matplotlib) (3.2.2)\n",
            "Requirement already satisfied: numpy>=1.11 in /usr/local/lib/python3.7/dist-packages (from matplotlib->japanize-matplotlib) (1.19.5)\n",
            "Requirement already satisfied: python-dateutil>=2.1 in /usr/local/lib/python3.7/dist-packages (from matplotlib->japanize-matplotlib) (2.8.2)\n",
            "Requirement already satisfied: pyparsing!=2.0.4,!=2.1.2,!=2.1.6,>=2.0.1 in /usr/local/lib/python3.7/dist-packages (from matplotlib->japanize-matplotlib) (2.4.7)\n",
            "Requirement already satisfied: cycler>=0.10 in /usr/local/lib/python3.7/dist-packages (from matplotlib->japanize-matplotlib) (0.10.0)\n",
            "Requirement already satisfied: kiwisolver>=1.0.1 in /usr/local/lib/python3.7/dist-packages (from matplotlib->japanize-matplotlib) (1.3.2)\n",
            "Requirement already satisfied: six in /usr/local/lib/python3.7/dist-packages (from cycler>=0.10->matplotlib->japanize-matplotlib) (1.15.0)\n"
          ]
        }
      ]
    },
    {
      "cell_type": "code",
      "metadata": {
        "id": "2x-kP8jI9Pu_"
      },
      "source": [
        "import pandas as pd\n",
        "from google.colab import auth\n",
        "from oauth2client.client import GoogleCredentials\n",
        "import gspread\n",
        "from gspread_dataframe import get_as_dataframe, set_with_dataframe\n",
        "import matplotlib.pyplot as plt\n",
        "import japanize_matplotlib\n",
        "import json, requests "
      ],
      "execution_count": 2,
      "outputs": []
    },
    {
      "cell_type": "markdown",
      "metadata": {
        "id": "qEv-28K6yPix"
      },
      "source": [
        "## データ読み込み"
      ]
    },
    {
      "cell_type": "code",
      "metadata": {
        "colab": {
          "base_uri": "https://localhost:8080/",
          "height": 419
        },
        "id": "hTHTfpTcwggc",
        "outputId": "a24e9dcc-25b8-49d0-de34-6e3cebf18f4f"
      },
      "source": [
        "url = requests.get('https://suzukidaishi.github.io/pd3-enquete/out/data_jp.json')\n",
        "enq_list = pd.DataFrame(json.loads(url.text))\n",
        "enq_list"
      ],
      "execution_count": 3,
      "outputs": [
        {
          "output_type": "execute_result",
          "data": {
            "text/html": [
              "<div>\n",
              "<style scoped>\n",
              "    .dataframe tbody tr th:only-of-type {\n",
              "        vertical-align: middle;\n",
              "    }\n",
              "\n",
              "    .dataframe tbody tr th {\n",
              "        vertical-align: top;\n",
              "    }\n",
              "\n",
              "    .dataframe thead th {\n",
              "        text-align: right;\n",
              "    }\n",
              "</style>\n",
              "<table border=\"1\" class=\"dataframe\">\n",
              "  <thead>\n",
              "    <tr style=\"text-align: right;\">\n",
              "      <th></th>\n",
              "      <th>source</th>\n",
              "      <th>output</th>\n",
              "      <th>id</th>\n",
              "    </tr>\n",
              "  </thead>\n",
              "  <tbody>\n",
              "    <tr>\n",
              "      <th>0</th>\n",
              "      <td>out/source/jp_test_normal/output_j002.wav</td>\n",
              "      <td>out/output/jp_test_normal/output_j002_j002.wav</td>\n",
              "      <td>1</td>\n",
              "    </tr>\n",
              "    <tr>\n",
              "      <th>1</th>\n",
              "      <td>out/source/jp_test_normal/output_j006.wav</td>\n",
              "      <td>out/output/jp_test_normal/output_j002_j006.wav</td>\n",
              "      <td>2</td>\n",
              "    </tr>\n",
              "    <tr>\n",
              "      <th>2</th>\n",
              "      <td>out/source/jp_test_normal/output_j009.wav</td>\n",
              "      <td>out/output/jp_test_normal/output_j002_j009.wav</td>\n",
              "      <td>3</td>\n",
              "    </tr>\n",
              "    <tr>\n",
              "      <th>3</th>\n",
              "      <td>out/source/jp_test_normal/output_j010.wav</td>\n",
              "      <td>out/output/jp_test_normal/output_j002_j010.wav</td>\n",
              "      <td>4</td>\n",
              "    </tr>\n",
              "    <tr>\n",
              "      <th>4</th>\n",
              "      <td>out/source/jp_test_normal/output_j002.wav</td>\n",
              "      <td>out/output/jp_test_normal/output_j006_j002.wav</td>\n",
              "      <td>5</td>\n",
              "    </tr>\n",
              "    <tr>\n",
              "      <th>...</th>\n",
              "      <td>...</td>\n",
              "      <td>...</td>\n",
              "      <td>...</td>\n",
              "    </tr>\n",
              "    <tr>\n",
              "      <th>187</th>\n",
              "      <td>out/source/jp_train_existing/output_j010.wav</td>\n",
              "      <td>out/output/jp_train_existing/output_j009_j010.wav</td>\n",
              "      <td>188</td>\n",
              "    </tr>\n",
              "    <tr>\n",
              "      <th>188</th>\n",
              "      <td>out/source/jp_train_existing/output_j002.wav</td>\n",
              "      <td>out/output/jp_train_existing/output_j010_j002.wav</td>\n",
              "      <td>189</td>\n",
              "    </tr>\n",
              "    <tr>\n",
              "      <th>189</th>\n",
              "      <td>out/source/jp_train_existing/output_j006.wav</td>\n",
              "      <td>out/output/jp_train_existing/output_j010_j006.wav</td>\n",
              "      <td>190</td>\n",
              "    </tr>\n",
              "    <tr>\n",
              "      <th>190</th>\n",
              "      <td>out/source/jp_train_existing/output_j009.wav</td>\n",
              "      <td>out/output/jp_train_existing/output_j010_j009.wav</td>\n",
              "      <td>191</td>\n",
              "    </tr>\n",
              "    <tr>\n",
              "      <th>191</th>\n",
              "      <td>out/source/jp_train_existing/output_j010.wav</td>\n",
              "      <td>out/output/jp_train_existing/output_j010_j010.wav</td>\n",
              "      <td>192</td>\n",
              "    </tr>\n",
              "  </tbody>\n",
              "</table>\n",
              "<p>192 rows × 3 columns</p>\n",
              "</div>"
            ],
            "text/plain": [
              "                                           source  ...   id\n",
              "0       out/source/jp_test_normal/output_j002.wav  ...    1\n",
              "1       out/source/jp_test_normal/output_j006.wav  ...    2\n",
              "2       out/source/jp_test_normal/output_j009.wav  ...    3\n",
              "3       out/source/jp_test_normal/output_j010.wav  ...    4\n",
              "4       out/source/jp_test_normal/output_j002.wav  ...    5\n",
              "..                                            ...  ...  ...\n",
              "187  out/source/jp_train_existing/output_j010.wav  ...  188\n",
              "188  out/source/jp_train_existing/output_j002.wav  ...  189\n",
              "189  out/source/jp_train_existing/output_j006.wav  ...  190\n",
              "190  out/source/jp_train_existing/output_j009.wav  ...  191\n",
              "191  out/source/jp_train_existing/output_j010.wav  ...  192\n",
              "\n",
              "[192 rows x 3 columns]"
            ]
          },
          "metadata": {},
          "execution_count": 3
        }
      ]
    },
    {
      "cell_type": "code",
      "metadata": {
        "id": "cgd8LGR6-gLh"
      },
      "source": [
        "auth.authenticate_user()\n",
        "gc = gspread.authorize(GoogleCredentials.get_application_default())"
      ],
      "execution_count": 4,
      "outputs": []
    },
    {
      "cell_type": "code",
      "metadata": {
        "id": "MKR_mFDD_D08"
      },
      "source": [
        "ss_id = '1_UgoNn5r50J8VTf8kDrYBOdPEx1jQj2fIb6xzk5-fOw'\n",
        "workbook = gc.open_by_key(ss_id)\n",
        "worksheet = workbook.get_worksheet(0)"
      ],
      "execution_count": 5,
      "outputs": []
    },
    {
      "cell_type": "code",
      "metadata": {
        "id": "fGhIkbrMCmsg"
      },
      "source": [
        "data_list = worksheet.get_all_records()"
      ],
      "execution_count": 6,
      "outputs": []
    },
    {
      "cell_type": "code",
      "metadata": {
        "colab": {
          "base_uri": "https://localhost:8080/",
          "height": 419
        },
        "id": "G0gMqKZMCzB1",
        "outputId": "c45ab4a0-c408-4a07-c35d-21d785010209"
      },
      "source": [
        "ans_list = pd.DataFrame(data_list)\n",
        "ans_list = ans_list[ans_list['調査対象ドメイン']!='suzuki']\n",
        "ans_list"
      ],
      "execution_count": 7,
      "outputs": [
        {
          "output_type": "execute_result",
          "data": {
            "text/html": [
              "<div>\n",
              "<style scoped>\n",
              "    .dataframe tbody tr th:only-of-type {\n",
              "        vertical-align: middle;\n",
              "    }\n",
              "\n",
              "    .dataframe tbody tr th {\n",
              "        vertical-align: top;\n",
              "    }\n",
              "\n",
              "    .dataframe thead th {\n",
              "        text-align: right;\n",
              "    }\n",
              "</style>\n",
              "<table border=\"1\" class=\"dataframe\">\n",
              "  <thead>\n",
              "    <tr style=\"text-align: right;\">\n",
              "      <th></th>\n",
              "      <th>調査対象ドメイン</th>\n",
              "      <th>調査ユーザーID</th>\n",
              "      <th>質問番号</th>\n",
              "      <th>質問１</th>\n",
              "      <th>質問２</th>\n",
              "      <th>質問3</th>\n",
              "      <th>回答時間</th>\n",
              "    </tr>\n",
              "  </thead>\n",
              "  <tbody>\n",
              "    <tr>\n",
              "      <th>0</th>\n",
              "      <td>kit_web_tkg4</td>\n",
              "      <td>xmlz1vk1ay96xr9kcyqdb</td>\n",
              "      <td>1</td>\n",
              "      <td>4</td>\n",
              "      <td>4</td>\n",
              "      <td></td>\n",
              "      <td>2021/10/27 21:35:00</td>\n",
              "    </tr>\n",
              "    <tr>\n",
              "      <th>1</th>\n",
              "      <td>kit_web_tkg4</td>\n",
              "      <td>xmlz1vk1ay96xr9kcyqdb</td>\n",
              "      <td>2</td>\n",
              "      <td>4</td>\n",
              "      <td>2</td>\n",
              "      <td></td>\n",
              "      <td>2021/10/27 21:35:18</td>\n",
              "    </tr>\n",
              "    <tr>\n",
              "      <th>2</th>\n",
              "      <td>kit_web_tkg4</td>\n",
              "      <td>xmlz1vk1ay96xr9kcyqdb</td>\n",
              "      <td>3</td>\n",
              "      <td>5</td>\n",
              "      <td>3</td>\n",
              "      <td></td>\n",
              "      <td>2021/10/27 21:35:37</td>\n",
              "    </tr>\n",
              "    <tr>\n",
              "      <th>3</th>\n",
              "      <td>kit_web_tkg4</td>\n",
              "      <td>xmlz1vk1ay96xr9kcyqdb</td>\n",
              "      <td>4</td>\n",
              "      <td>4</td>\n",
              "      <td>3</td>\n",
              "      <td></td>\n",
              "      <td>2021/10/27 21:35:52</td>\n",
              "    </tr>\n",
              "    <tr>\n",
              "      <th>4</th>\n",
              "      <td>kit_web_tkg4</td>\n",
              "      <td>xmlz1vk1ay96xr9kcyqdb</td>\n",
              "      <td>5</td>\n",
              "      <td>4</td>\n",
              "      <td>1</td>\n",
              "      <td></td>\n",
              "      <td>2021/10/27 21:36:07</td>\n",
              "    </tr>\n",
              "    <tr>\n",
              "      <th>...</th>\n",
              "      <td>...</td>\n",
              "      <td>...</td>\n",
              "      <td>...</td>\n",
              "      <td>...</td>\n",
              "      <td>...</td>\n",
              "      <td>...</td>\n",
              "      <td>...</td>\n",
              "    </tr>\n",
              "    <tr>\n",
              "      <th>2761</th>\n",
              "      <td>kit_web_tkg3</td>\n",
              "      <td>xl1ycik2ltmvihqmoj7rg</td>\n",
              "      <td>188</td>\n",
              "      <td>1</td>\n",
              "      <td>2</td>\n",
              "      <td></td>\n",
              "      <td>2021/10/30 1:36:50</td>\n",
              "    </tr>\n",
              "    <tr>\n",
              "      <th>2762</th>\n",
              "      <td>kit_web_tkg3</td>\n",
              "      <td>xl1ycik2ltmvihqmoj7rg</td>\n",
              "      <td>189</td>\n",
              "      <td>1</td>\n",
              "      <td>3</td>\n",
              "      <td></td>\n",
              "      <td>2021/10/30 1:37:18</td>\n",
              "    </tr>\n",
              "    <tr>\n",
              "      <th>2763</th>\n",
              "      <td>kit_web_tkg3</td>\n",
              "      <td>xl1ycik2ltmvihqmoj7rg</td>\n",
              "      <td>190</td>\n",
              "      <td>1</td>\n",
              "      <td>1</td>\n",
              "      <td></td>\n",
              "      <td>2021/10/30 1:37:43</td>\n",
              "    </tr>\n",
              "    <tr>\n",
              "      <th>2764</th>\n",
              "      <td>kit_web_tkg3</td>\n",
              "      <td>xl1ycik2ltmvihqmoj7rg</td>\n",
              "      <td>191</td>\n",
              "      <td>1</td>\n",
              "      <td>2</td>\n",
              "      <td></td>\n",
              "      <td>2021/10/30 1:38:42</td>\n",
              "    </tr>\n",
              "    <tr>\n",
              "      <th>2765</th>\n",
              "      <td>kit_web_tkg3</td>\n",
              "      <td>xl1ycik2ltmvihqmoj7rg</td>\n",
              "      <td>192</td>\n",
              "      <td>3</td>\n",
              "      <td>5</td>\n",
              "      <td></td>\n",
              "      <td>2021/10/30 1:39:11</td>\n",
              "    </tr>\n",
              "  </tbody>\n",
              "</table>\n",
              "<p>2607 rows × 7 columns</p>\n",
              "</div>"
            ],
            "text/plain": [
              "          調査対象ドメイン               調査ユーザーID  質問番号  ...  質問２  質問3                 回答時間\n",
              "0     kit_web_tkg4  xmlz1vk1ay96xr9kcyqdb     1  ...    4       2021/10/27 21:35:00\n",
              "1     kit_web_tkg4  xmlz1vk1ay96xr9kcyqdb     2  ...    2       2021/10/27 21:35:18\n",
              "2     kit_web_tkg4  xmlz1vk1ay96xr9kcyqdb     3  ...    3       2021/10/27 21:35:37\n",
              "3     kit_web_tkg4  xmlz1vk1ay96xr9kcyqdb     4  ...    3       2021/10/27 21:35:52\n",
              "4     kit_web_tkg4  xmlz1vk1ay96xr9kcyqdb     5  ...    1       2021/10/27 21:36:07\n",
              "...            ...                    ...   ...  ...  ...  ...                  ...\n",
              "2761  kit_web_tkg3  xl1ycik2ltmvihqmoj7rg   188  ...    2        2021/10/30 1:36:50\n",
              "2762  kit_web_tkg3  xl1ycik2ltmvihqmoj7rg   189  ...    3        2021/10/30 1:37:18\n",
              "2763  kit_web_tkg3  xl1ycik2ltmvihqmoj7rg   190  ...    1        2021/10/30 1:37:43\n",
              "2764  kit_web_tkg3  xl1ycik2ltmvihqmoj7rg   191  ...    2        2021/10/30 1:38:42\n",
              "2765  kit_web_tkg3  xl1ycik2ltmvihqmoj7rg   192  ...    5        2021/10/30 1:39:11\n",
              "\n",
              "[2607 rows x 7 columns]"
            ]
          },
          "metadata": {},
          "execution_count": 7
        }
      ]
    },
    {
      "cell_type": "markdown",
      "metadata": {
        "id": "iYZYesavyKOn"
      },
      "source": [
        "## アンケート解答率"
      ]
    },
    {
      "cell_type": "code",
      "metadata": {
        "colab": {
          "base_uri": "https://localhost:8080/",
          "height": 324
        },
        "id": "UIM1rZUnDrpf",
        "outputId": "767668fc-500b-452d-8253-fa039d12c159"
      },
      "source": [
        "x = ans_list['調査ユーザーID'].unique()\n",
        "y = sorted([ len(ans_list[ans_list['調査ユーザーID']==i]) for i in x ])\n",
        "x = [ f'u{i+1}' for i in range(len(x)) ]\n",
        "fig, ax = plt.subplots(figsize=(8, 3), dpi=100)\n",
        "ax.set_title('人別回答数')\n",
        "ax.bar(x, y)"
      ],
      "execution_count": 8,
      "outputs": [
        {
          "output_type": "execute_result",
          "data": {
            "text/plain": [
              "<BarContainer object of 16 artists>"
            ]
          },
          "metadata": {},
          "execution_count": 8
        },
        {
          "output_type": "display_data",
          "data": {
            "image/png": "[encoded data removed]",
            "text/plain": [
              "<Figure size 800x300 with 1 Axes>"
            ]
          },
          "metadata": {
            "needs_background": "light"
          }
        }
      ]
    },
    {
      "cell_type": "code",
      "metadata": {
        "colab": {
          "base_uri": "https://localhost:8080/",
          "height": 413
        },
        "id": "TZv5XA1JKx82",
        "outputId": "8a85ba39-fb19-4ad9-d22b-a29e4208ac92"
      },
      "source": [
        "x = ans_list['質問番号'].unique()\n",
        "y = [ len(ans_list[ans_list['質問番号']==i]) for i in x ]\n",
        "fig, ax = plt.subplots(figsize=(20, 5), dpi=100)\n",
        "ax.set_title(f'質問別回答数({max(x)}問)')\n",
        "ax.bar(x, y)"
      ],
      "execution_count": 9,
      "outputs": [
        {
          "output_type": "execute_result",
          "data": {
            "text/plain": [
              "<BarContainer object of 192 artists>"
            ]
          },
          "metadata": {},
          "execution_count": 9
        },
        {
          "output_type": "display_data",
          "data": {
            "image/png": "[encoded data removed]",
            "text/plain": [
              "<Figure size 2000x500 with 1 Axes>"
            ]
          },
          "metadata": {
            "needs_background": "light"
          }
        }
      ]
    },
    {
      "cell_type": "code",
      "metadata": {
        "colab": {
          "base_uri": "https://localhost:8080/"
        },
        "id": "bE020RhQMkUU",
        "outputId": "37e4ae7f-0b70-4e9c-a4af-2ea1fc965597"
      },
      "source": [
        "print('質問回答数:', min(y), '~', max(y))"
      ],
      "execution_count": 10,
      "outputs": [
        {
          "output_type": "stream",
          "name": "stdout",
          "text": [
            "質問回答数: 11 ~ 16\n"
          ]
        }
      ]
    },
    {
      "cell_type": "code",
      "metadata": {
        "colab": {
          "base_uri": "https://localhost:8080/",
          "height": 324
        },
        "id": "4B5nN0n90S91",
        "outputId": "5e7c1175-5c72-46d4-a29d-4d6bca05a83b"
      },
      "source": [
        "x = ans_list['調査対象ドメイン'].unique()\n",
        "y = [ len(ans_list[ans_list['調査対象ドメイン']==i]) for i in x ]\n",
        "fig, ax = plt.subplots(figsize=(8, 3), dpi=100)\n",
        "ax.set_title(f'回答ドメイン')\n",
        "ax.bar(x, y)"
      ],
      "execution_count": 11,
      "outputs": [
        {
          "output_type": "execute_result",
          "data": {
            "text/plain": [
              "<BarContainer object of 3 artists>"
            ]
          },
          "metadata": {},
          "execution_count": 11
        },
        {
          "output_type": "display_data",
          "data": {
            "image/png": "[encoded data removed]",
            "text/plain": [
              "<Figure size 800x300 with 1 Axes>"
            ]
          },
          "metadata": {
            "needs_background": "light"
          }
        }
      ]
    },
    {
      "cell_type": "markdown",
      "metadata": {
        "id": "EYXtWAXqyXCw"
      },
      "source": [
        "## アンケート: 全て\n",
        "\n"
      ]
    },
    {
      "cell_type": "code",
      "metadata": {
        "colab": {
          "base_uri": "https://localhost:8080/",
          "height": 428
        },
        "id": "zgZ5NQ_M1fmz",
        "outputId": "e9800391-af4c-49ed-ea36-6693d592bb82"
      },
      "source": [
        "y = ['normal', 'convx2', 'widex2', 'existing']\n",
        "x = []\n",
        "for i, n in enumerate(y):\n",
        "  ids = enq_list[enq_list['output'].str.contains(n)]['id']\n",
        "  id_max = ids.max()\n",
        "  id_min = ids.min()\n",
        "  a = ans_list[id_min<=ans_list['質問番号']][ans_list['質問番号']<=id_max]\n",
        "  x.append(a['質問１'].mean())\n",
        "  y[i] += f'(n={len(a[\"質問１\"])})'\n",
        "fig, ax = plt.subplots(figsize=(8, 3), dpi=100)\n",
        "plt.ylim(0, 5)\n",
        "ax.set_title(f'品質MOS(モデル別)')\n",
        "ax.bar(y, x)"
      ],
      "execution_count": 12,
      "outputs": [
        {
          "output_type": "stream",
          "name": "stderr",
          "text": [
            "/usr/local/lib/python3.7/dist-packages/ipykernel_launcher.py:7: UserWarning: Boolean Series key will be reindexed to match DataFrame index.\n",
            "  import sys\n",
            "/usr/local/lib/python3.7/dist-packages/ipykernel_launcher.py:7: UserWarning: Boolean Series key will be reindexed to match DataFrame index.\n",
            "  import sys\n",
            "/usr/local/lib/python3.7/dist-packages/ipykernel_launcher.py:7: UserWarning: Boolean Series key will be reindexed to match DataFrame index.\n",
            "  import sys\n"
          ]
        },
        {
          "output_type": "execute_result",
          "data": {
            "text/plain": [
              "<BarContainer object of 4 artists>"
            ]
          },
          "metadata": {},
          "execution_count": 12
        },
        {
          "output_type": "display_data",
          "data": {
            "image/png": "[encoded data removed]",
            "text/plain": [
              "<Figure size 800x300 with 1 Axes>"
            ]
          },
          "metadata": {
            "needs_background": "light"
          }
        }
      ]
    },
    {
      "cell_type": "code",
      "metadata": {
        "colab": {
          "base_uri": "https://localhost:8080/",
          "height": 428
        },
        "id": "d_Nm6VvB8FdQ",
        "outputId": "01da011e-eeb7-4a5e-d405-51415f40692d"
      },
      "source": [
        "y = ['normal', 'convx2', 'widex2', 'existing']\n",
        "x = []\n",
        "for i, n in enumerate(y):\n",
        "  ids = enq_list[enq_list['output'].str.contains(n)]['id']\n",
        "  id_max = ids.max()\n",
        "  id_min = ids.min()\n",
        "  a = ans_list[id_min<=ans_list['質問番号']][ans_list['質問番号']<=id_max]\n",
        "  x.append(a['質問２'].mean())\n",
        "  y[i] += f'(n={len(a[\"質問２\"])})'\n",
        "fig, ax = plt.subplots(figsize=(8, 3), dpi=100)\n",
        "plt.ylim(0, 5)\n",
        "ax.set_title(f'類似度MOS(モデル別)')\n",
        "ax.bar(y, x)"
      ],
      "execution_count": 13,
      "outputs": [
        {
          "output_type": "stream",
          "name": "stderr",
          "text": [
            "/usr/local/lib/python3.7/dist-packages/ipykernel_launcher.py:7: UserWarning: Boolean Series key will be reindexed to match DataFrame index.\n",
            "  import sys\n",
            "/usr/local/lib/python3.7/dist-packages/ipykernel_launcher.py:7: UserWarning: Boolean Series key will be reindexed to match DataFrame index.\n",
            "  import sys\n",
            "/usr/local/lib/python3.7/dist-packages/ipykernel_launcher.py:7: UserWarning: Boolean Series key will be reindexed to match DataFrame index.\n",
            "  import sys\n"
          ]
        },
        {
          "output_type": "execute_result",
          "data": {
            "text/plain": [
              "<BarContainer object of 4 artists>"
            ]
          },
          "metadata": {},
          "execution_count": 13
        },
        {
          "output_type": "display_data",
          "data": {
            "image/png": "[encoded data removed]",
            "text/plain": [
              "<Figure size 800x300 with 1 Axes>"
            ]
          },
          "metadata": {
            "needs_background": "light"
          }
        }
      ]
    },
    {
      "cell_type": "code",
      "metadata": {
        "colab": {
          "base_uri": "https://localhost:8080/",
          "height": 393
        },
        "id": "4f06i9Df62PX",
        "outputId": "91a5d4a7-2a2f-411d-c80a-f046ef6f0a8d"
      },
      "source": [
        "y = ['test_normal', 'train_normal', 'unseen_normal']\n",
        "x = []\n",
        "for i, n in enumerate(y):\n",
        "  ids = enq_list[enq_list['output'].str.contains(n)]['id']\n",
        "  id_max = ids.max()\n",
        "  id_min = ids.min()\n",
        "  a = ans_list[id_min<=ans_list['質問番号']][ans_list['質問番号']<=id_max]\n",
        "  x.append(a['質問１'].mean())\n",
        "  y[i] += f'(n={len(a[\"質問１\"])})'\n",
        "fig, ax = plt.subplots(figsize=(8, 3), dpi=100)\n",
        "plt.ylim(0, 5)\n",
        "ax.set_title(f'品質MOS(AutoVC World)')\n",
        "ax.bar(y, x)"
      ],
      "execution_count": 14,
      "outputs": [
        {
          "output_type": "stream",
          "name": "stderr",
          "text": [
            "/usr/local/lib/python3.7/dist-packages/ipykernel_launcher.py:7: UserWarning: Boolean Series key will be reindexed to match DataFrame index.\n",
            "  import sys\n",
            "/usr/local/lib/python3.7/dist-packages/ipykernel_launcher.py:7: UserWarning: Boolean Series key will be reindexed to match DataFrame index.\n",
            "  import sys\n"
          ]
        },
        {
          "output_type": "execute_result",
          "data": {
            "text/plain": [
              "<BarContainer object of 3 artists>"
            ]
          },
          "metadata": {},
          "execution_count": 14
        },
        {
          "output_type": "display_data",
          "data": {
            "image/png": "[encoded data removed]",
            "text/plain": [
              "<Figure size 800x300 with 1 Axes>"
            ]
          },
          "metadata": {
            "needs_background": "light"
          }
        }
      ]
    },
    {
      "cell_type": "code",
      "metadata": {
        "colab": {
          "base_uri": "https://localhost:8080/",
          "height": 393
        },
        "id": "D-sHAEfc9KEy",
        "outputId": "fcfdcf1f-a422-458c-ac61-1eb35088b6c7"
      },
      "source": [
        "y = ['test_normal', 'train_normal', 'unseen_normal']\n",
        "x = []\n",
        "for i, n in enumerate(y):\n",
        "  ids = enq_list[enq_list['output'].str.contains(n)]['id']\n",
        "  id_max = ids.max()\n",
        "  id_min = ids.min()\n",
        "  a = ans_list[id_min<=ans_list['質問番号']][ans_list['質問番号']<=id_max]\n",
        "  x.append(a['質問２'].mean())\n",
        "  y[i] += f'(n={len(a[\"質問２\"])})'\n",
        "fig, ax = plt.subplots(figsize=(8, 3), dpi=100)\n",
        "plt.ylim(0, 5)\n",
        "ax.set_title(f'類似度MOS(AutoVC World)')\n",
        "ax.bar(y, x)"
      ],
      "execution_count": 15,
      "outputs": [
        {
          "output_type": "stream",
          "name": "stderr",
          "text": [
            "/usr/local/lib/python3.7/dist-packages/ipykernel_launcher.py:7: UserWarning: Boolean Series key will be reindexed to match DataFrame index.\n",
            "  import sys\n",
            "/usr/local/lib/python3.7/dist-packages/ipykernel_launcher.py:7: UserWarning: Boolean Series key will be reindexed to match DataFrame index.\n",
            "  import sys\n"
          ]
        },
        {
          "output_type": "execute_result",
          "data": {
            "text/plain": [
              "<BarContainer object of 3 artists>"
            ]
          },
          "metadata": {},
          "execution_count": 15
        },
        {
          "output_type": "display_data",
          "data": {
            "image/png": "[encoded data removed]",
            "text/plain": [
              "<Figure size 800x300 with 1 Axes>"
            ]
          },
          "metadata": {
            "needs_background": "light"
          }
        }
      ]
    },
    {
      "cell_type": "code",
      "metadata": {
        "colab": {
          "base_uri": "https://localhost:8080/",
          "height": 427
        },
        "id": "Cmkq3wEf9UJR",
        "outputId": "0b66c4d0-a1da-4406-9947-fbbf4943ef2f"
      },
      "source": [
        "y = ['test_convx2', 'train_convx2', 'unseen_convx2']\n",
        "x = []\n",
        "for i, n in enumerate(y):\n",
        "  ids = enq_list[enq_list['output'].str.contains(n)]['id']\n",
        "  id_max = ids.max()\n",
        "  id_min = ids.min()\n",
        "  a = ans_list[id_min<=ans_list['質問番号']][ans_list['質問番号']<=id_max]\n",
        "  x.append(a['質問１'].mean())\n",
        "  y[i] += f'(n={len(a[\"質問１\"])})'\n",
        "fig, ax = plt.subplots(figsize=(8, 3), dpi=100)\n",
        "plt.ylim(0, 5)\n",
        "ax.set_title(f'品質MOS(AutoVC World ConvX2)')\n",
        "ax.bar(y, x)"
      ],
      "execution_count": 16,
      "outputs": [
        {
          "output_type": "stream",
          "name": "stderr",
          "text": [
            "/usr/local/lib/python3.7/dist-packages/ipykernel_launcher.py:7: UserWarning: Boolean Series key will be reindexed to match DataFrame index.\n",
            "  import sys\n",
            "/usr/local/lib/python3.7/dist-packages/ipykernel_launcher.py:7: UserWarning: Boolean Series key will be reindexed to match DataFrame index.\n",
            "  import sys\n",
            "/usr/local/lib/python3.7/dist-packages/ipykernel_launcher.py:7: UserWarning: Boolean Series key will be reindexed to match DataFrame index.\n",
            "  import sys\n"
          ]
        },
        {
          "output_type": "execute_result",
          "data": {
            "text/plain": [
              "<BarContainer object of 3 artists>"
            ]
          },
          "metadata": {},
          "execution_count": 16
        },
        {
          "output_type": "display_data",
          "data": {
            "image/png": "[encoded data removed]",
            "text/plain": [
              "<Figure size 800x300 with 1 Axes>"
            ]
          },
          "metadata": {
            "needs_background": "light"
          }
        }
      ]
    },
    {
      "cell_type": "code",
      "metadata": {
        "colab": {
          "base_uri": "https://localhost:8080/",
          "height": 427
        },
        "id": "3SAJjoPq9fIJ",
        "outputId": "4faa4317-9257-470b-fd1f-3f2bcce91e8a"
      },
      "source": [
        "y = ['test_convx2', 'train_convx2', 'unseen_convx2']\n",
        "x = []\n",
        "for i, n in enumerate(y):\n",
        "  ids = enq_list[enq_list['output'].str.contains(n)]['id']\n",
        "  id_max = ids.max()\n",
        "  id_min = ids.min()\n",
        "  a = ans_list[id_min<=ans_list['質問番号']][ans_list['質問番号']<=id_max]\n",
        "  x.append(a['質問２'].mean())\n",
        "  y[i] += f'(n={len(a[\"質問２\"])})'\n",
        "fig, ax = plt.subplots(figsize=(8, 3), dpi=100)\n",
        "plt.ylim(0, 5)\n",
        "ax.set_title(f'類似度MOS(AutoVC World ConvX2)')\n",
        "ax.bar(y, x)"
      ],
      "execution_count": 17,
      "outputs": [
        {
          "output_type": "stream",
          "name": "stderr",
          "text": [
            "/usr/local/lib/python3.7/dist-packages/ipykernel_launcher.py:7: UserWarning: Boolean Series key will be reindexed to match DataFrame index.\n",
            "  import sys\n",
            "/usr/local/lib/python3.7/dist-packages/ipykernel_launcher.py:7: UserWarning: Boolean Series key will be reindexed to match DataFrame index.\n",
            "  import sys\n",
            "/usr/local/lib/python3.7/dist-packages/ipykernel_launcher.py:7: UserWarning: Boolean Series key will be reindexed to match DataFrame index.\n",
            "  import sys\n"
          ]
        },
        {
          "output_type": "execute_result",
          "data": {
            "text/plain": [
              "<BarContainer object of 3 artists>"
            ]
          },
          "metadata": {},
          "execution_count": 17
        },
        {
          "output_type": "display_data",
          "data": {
            "image/png": "[encoded data removed]",
            "text/plain": [
              "<Figure size 800x300 with 1 Axes>"
            ]
          },
          "metadata": {
            "needs_background": "light"
          }
        }
      ]
    },
    {
      "cell_type": "code",
      "metadata": {
        "colab": {
          "base_uri": "https://localhost:8080/",
          "height": 427
        },
        "id": "db7YlvAW-s-9",
        "outputId": "ef651a45-0f4f-40eb-9ca1-5c931b631b60"
      },
      "source": [
        "y = ['test_widex2', 'train_widex2', 'unseen_widex2']\n",
        "x = []\n",
        "for i, n in enumerate(y):\n",
        "  ids = enq_list[enq_list['output'].str.contains(n)]['id']\n",
        "  id_max = ids.max()\n",
        "  id_min = ids.min()\n",
        "  a = ans_list[id_min<=ans_list['質問番号']][ans_list['質問番号']<=id_max]\n",
        "  x.append(a['質問１'].mean())\n",
        "  y[i] += f'(n={len(a[\"質問１\"])})'\n",
        "fig, ax = plt.subplots(figsize=(8, 3), dpi=100)\n",
        "plt.ylim(0, 5)\n",
        "ax.set_title(f'品質MOS(AutoVC World WideX2)')\n",
        "ax.bar(y, x)"
      ],
      "execution_count": 18,
      "outputs": [
        {
          "output_type": "stream",
          "name": "stderr",
          "text": [
            "/usr/local/lib/python3.7/dist-packages/ipykernel_launcher.py:7: UserWarning: Boolean Series key will be reindexed to match DataFrame index.\n",
            "  import sys\n",
            "/usr/local/lib/python3.7/dist-packages/ipykernel_launcher.py:7: UserWarning: Boolean Series key will be reindexed to match DataFrame index.\n",
            "  import sys\n",
            "/usr/local/lib/python3.7/dist-packages/ipykernel_launcher.py:7: UserWarning: Boolean Series key will be reindexed to match DataFrame index.\n",
            "  import sys\n"
          ]
        },
        {
          "output_type": "execute_result",
          "data": {
            "text/plain": [
              "<BarContainer object of 3 artists>"
            ]
          },
          "metadata": {},
          "execution_count": 18
        },
        {
          "output_type": "display_data",
          "data": {
            "image/png": "[encoded data removed]",
            "text/plain": [
              "<Figure size 800x300 with 1 Axes>"
            ]
          },
          "metadata": {
            "needs_background": "light"
          }
        }
      ]
    },
    {
      "cell_type": "code",
      "metadata": {
        "colab": {
          "base_uri": "https://localhost:8080/",
          "height": 427
        },
        "id": "LzSY7Up4-2bh",
        "outputId": "69ffa97c-6191-4a99-dea7-c0a3b328a6ba"
      },
      "source": [
        "y = ['test_widex2', 'train_widex2', 'unseen_widex2']\n",
        "x = []\n",
        "for i, n in enumerate(y):\n",
        "  ids = enq_list[enq_list['output'].str.contains(n)]['id']\n",
        "  id_max = ids.max()\n",
        "  id_min = ids.min()\n",
        "  a = ans_list[id_min<=ans_list['質問番号']][ans_list['質問番号']<=id_max]\n",
        "  x.append(a['質問２'].mean())\n",
        "  y[i] += f'(n={len(a[\"質問２\"])})'\n",
        "fig, ax = plt.subplots(figsize=(8, 3), dpi=100)\n",
        "plt.ylim(0, 5)\n",
        "ax.set_title(f'類似度MOS(AutoVC World WideX2)')\n",
        "ax.bar(y, x)"
      ],
      "execution_count": 19,
      "outputs": [
        {
          "output_type": "stream",
          "name": "stderr",
          "text": [
            "/usr/local/lib/python3.7/dist-packages/ipykernel_launcher.py:7: UserWarning: Boolean Series key will be reindexed to match DataFrame index.\n",
            "  import sys\n",
            "/usr/local/lib/python3.7/dist-packages/ipykernel_launcher.py:7: UserWarning: Boolean Series key will be reindexed to match DataFrame index.\n",
            "  import sys\n",
            "/usr/local/lib/python3.7/dist-packages/ipykernel_launcher.py:7: UserWarning: Boolean Series key will be reindexed to match DataFrame index.\n",
            "  import sys\n"
          ]
        },
        {
          "output_type": "execute_result",
          "data": {
            "text/plain": [
              "<BarContainer object of 3 artists>"
            ]
          },
          "metadata": {},
          "execution_count": 19
        },
        {
          "output_type": "display_data",
          "data": {
            "image/png": "[encoded data removed]",
            "text/plain": [
              "<Figure size 800x300 with 1 Axes>"
            ]
          },
          "metadata": {
            "needs_background": "light"
          }
        }
      ]
    },
    {
      "cell_type": "code",
      "metadata": {
        "colab": {
          "base_uri": "https://localhost:8080/",
          "height": 428
        },
        "id": "XGwEJNyV_CHV",
        "outputId": "93ac0c84-887c-4b83-fbf6-296f02b93968"
      },
      "source": [
        "y = ['test_existing', 'train_existing', 'unseen_existing']\n",
        "x = []\n",
        "for i, n in enumerate(y):\n",
        "  ids = enq_list[enq_list['output'].str.contains(n)]['id']\n",
        "  id_max = ids.max()\n",
        "  id_min = ids.min()\n",
        "  a = ans_list[id_min<=ans_list['質問番号']][ans_list['質問番号']<=id_max]\n",
        "  x.append(a['質問１'].mean())\n",
        "  y[i] += f'(n={len(a[\"質問１\"])})'\n",
        "fig, ax = plt.subplots(figsize=(8, 3), dpi=100)\n",
        "plt.ylim(0, 5)\n",
        "ax.set_title(f'品質MOS(AutoVC既存)')\n",
        "ax.bar(y, x)"
      ],
      "execution_count": 20,
      "outputs": [
        {
          "output_type": "stream",
          "name": "stderr",
          "text": [
            "/usr/local/lib/python3.7/dist-packages/ipykernel_launcher.py:7: UserWarning: Boolean Series key will be reindexed to match DataFrame index.\n",
            "  import sys\n",
            "/usr/local/lib/python3.7/dist-packages/ipykernel_launcher.py:7: UserWarning: Boolean Series key will be reindexed to match DataFrame index.\n",
            "  import sys\n",
            "/usr/local/lib/python3.7/dist-packages/ipykernel_launcher.py:7: UserWarning: Boolean Series key will be reindexed to match DataFrame index.\n",
            "  import sys\n"
          ]
        },
        {
          "output_type": "execute_result",
          "data": {
            "text/plain": [
              "<BarContainer object of 3 artists>"
            ]
          },
          "metadata": {},
          "execution_count": 20
        },
        {
          "output_type": "display_data",
          "data": {
            "image/png": "[encoded data removed]",
            "text/plain": [
              "<Figure size 800x300 with 1 Axes>"
            ]
          },
          "metadata": {
            "needs_background": "light"
          }
        }
      ]
    },
    {
      "cell_type": "code",
      "metadata": {
        "colab": {
          "base_uri": "https://localhost:8080/",
          "height": 428
        },
        "id": "ZoMB613m_LVM",
        "outputId": "c5b37466-de30-432a-e315-e6e863f3874d"
      },
      "source": [
        "y = ['test_existing', 'train_existing', 'unseen_existing']\n",
        "x = []\n",
        "for i, n in enumerate(y):\n",
        "  ids = enq_list[enq_list['output'].str.contains(n)]['id']\n",
        "  id_max = ids.max()\n",
        "  id_min = ids.min()\n",
        "  a = ans_list[id_min<=ans_list['質問番号']][ans_list['質問番号']<=id_max]\n",
        "  x.append(a['質問２'].mean())\n",
        "  y[i] += f'(n={len(a[\"質問２\"])})'\n",
        "fig, ax = plt.subplots(figsize=(8, 3), dpi=100)\n",
        "plt.ylim(0, 5)\n",
        "ax.set_title(f'類似度MOS(AutoVC既存)')\n",
        "ax.bar(y, x)"
      ],
      "execution_count": 21,
      "outputs": [
        {
          "output_type": "stream",
          "name": "stderr",
          "text": [
            "/usr/local/lib/python3.7/dist-packages/ipykernel_launcher.py:7: UserWarning: Boolean Series key will be reindexed to match DataFrame index.\n",
            "  import sys\n",
            "/usr/local/lib/python3.7/dist-packages/ipykernel_launcher.py:7: UserWarning: Boolean Series key will be reindexed to match DataFrame index.\n",
            "  import sys\n",
            "/usr/local/lib/python3.7/dist-packages/ipykernel_launcher.py:7: UserWarning: Boolean Series key will be reindexed to match DataFrame index.\n",
            "  import sys\n"
          ]
        },
        {
          "output_type": "execute_result",
          "data": {
            "text/plain": [
              "<BarContainer object of 3 artists>"
            ]
          },
          "metadata": {},
          "execution_count": 21
        },
        {
          "output_type": "display_data",
          "data": {
            "image/png": "[encoded data removed]",
            "text/plain": [
              "<Figure size 800x300 with 1 Axes>"
            ]
          },
          "metadata": {
            "needs_background": "light"
          }
        }
      ]
    }
  ]
}